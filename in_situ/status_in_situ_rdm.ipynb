{
 "cells": [
  {
   "cell_type": "code",
   "execution_count": 1,
   "metadata": {},
   "outputs": [],
   "source": [
    "import numpy as np\n",
    "from worldcereal.rdm_api.rdm_collection import visualize_spatial_extents\n",
    "\n",
    "# We first initiate an interaction session with the RDM:\n",
    "from worldcereal.rdm_api import RdmInteraction\n",
    "rdm = RdmInteraction()"
   ]
  },
  {
   "cell_type": "code",
   "execution_count": 2,
   "metadata": {},
   "outputs": [
    {
     "name": "stderr",
     "output_type": "stream",
     "text": [
      "\u001b[32m2025-03-14 09:07:19.887\u001b[0m | \u001b[1mINFO    \u001b[0m | \u001b[36mworldcereal.rdm_api.rdm_interaction\u001b[0m:\u001b[36mget_collections\u001b[0m:\u001b[36m150\u001b[0m - \u001b[1mTo access private collections, you need to authenticate.\u001b[0m\n"
     ]
    },
    {
     "data": {
      "text/html": [
       "Visit <a href=\"https://sso.terrascope.be/auth/realms/terrascope/device?user_code=DGLU-OKUG\" title=\"Authenticate at https://sso.terrascope.be/auth/realms/terrascope/device?user_code=DGLU-OKUG\" target=\"_blank\" rel=\"noopener noreferrer\">https://sso.terrascope.be/auth/realms/terrascope/device?user_code=DGLU-OKUG</a> <a href=\"#\" onclick=\"navigator.clipboard.writeText('https://sso.terrascope.be/auth/realms/terrascope/device?user_code=DGLU-OKUG');return false;\" title=\"Copy authentication URL to clipboard\">&#128203;</a> to authenticate."
      ]
     },
     "metadata": {},
     "output_type": "display_data"
    },
    {
     "data": {
      "text/html": [
       "✅ Authorized successfully"
      ]
     },
     "metadata": {},
     "output_type": "display_data"
    },
    {
     "name": "stdout",
     "output_type": "stream",
     "text": [
      "Number of collections found: 59\n",
      "['2021_deu_eurocropsls_poly_110', '2022_aus_clumcom_poly_110', '2017_bel_lpisflanders_poly_110', '2018_bel_lpisflanders_poly_110', '2021_glo_ewocval_poly_111', '2022_glo_ewocval_poly_111', '2018_irl_lpis_poly_110', '2019_esp_sigpaccatalunya_poly_111', '2022_aut_lpis_poly_110', '2023_aus_clumcom_poly_110', '2019_can_aafccropinventory_point_110', '2021_svk_eurocrops_poly_110', '2020_svn_lpis_poly_110', '2018_nld_lpis_poly_110', '2021_lva_lpis_poly_110', '2020_fin_lpis_poly_110', '2020_nld_lpis_poly_110', '2019_aut_lpis_poly_110', '2018_fra_lpis_poly_110', '2020_aut_lpis_poly_110', '2019_fra_lpis_poly_110', '2020_bel_lpisflanders_poly_110', '2017_aut_lpis_poly_110', '2020_bra_inpelemfeb_poly_110', '2020_bra_inpelemmar_poly_110', '2020_can_aafccropinventory_point_110', '2018_aut_lpis_poly_110', '2017_mdg_jecamcirad_poly_111', '2018_bfa_jecamcirad_poly_111', '2018_can_aafccropinventory_point_110', '2018_eu_lucas_point_110', '2018_mdg_jecamcirad_poly_111', '2019_ken_radiantearth01_poly_111', '2019_mdg_jecamcirad_poly_111', '2019_usausda2019cdls_point_110', '2020_rwa_faowapor1_point_111', '2020_rwa_faowaporakagera_point_111', '2020_sdn_faowapor1_poly_110', '2021_uga_copernicusgeoglamlr_point_111', '2021_uga_copernicusgeoglamsr_point_111', '2023_idn_vitocampaign_poly_110', '2019_bel_lpisflanders_poly_110', '2021_deu_eurocropsnrw_poly_110', '2021_fin_lpis_poly_110', '2019_dnk_eurocrops_poly_110', '2019_nld_lpis_poly_110', '2021_nld_lpis_poly_110', '2019_lva_lpis_poly_110', '2017_as_cawaproject_poly_111', '2017_bfa_jecamcirad_poly_111', '2017_bra_jecamcirad_poly_111', '2017_can_aafccropinventory_point_110', '2017_fra_lpis_poly_110', '2021_bel_lpisflanders_poly_110', '2021_can_aafccropinventory_point_110', '2021_rwa_faowaporakagera_poly_111', '2021_rwa_faowapormuvu_poly_111', '2020_fra_lpis_poly_110', '2021_aut_lpis_poly_110']\n"
     ]
    },
    {
     "name": "stderr",
     "output_type": "stream",
     "text": [
      "\u001b[32m2025-03-14 09:07:36.872\u001b[0m | \u001b[33m\u001b[1mWARNING \u001b[0m | \u001b[36mworldcereal.rdm_api.rdm_interaction\u001b[0m:\u001b[36mget_crop_counts\u001b[0m:\u001b[36m303\u001b[0m - \u001b[33m\u001b[1mNo crop counts available for collection 2019_esp_sigpaccatalunya_poly_111\u001b[0m\n",
      "\u001b[32m2025-03-14 09:07:39.626\u001b[0m | \u001b[33m\u001b[1mWARNING \u001b[0m | \u001b[36mworldcereal.rdm_api.rdm_interaction\u001b[0m:\u001b[36mget_crop_counts\u001b[0m:\u001b[36m303\u001b[0m - \u001b[33m\u001b[1mNo crop counts available for collection 2020_fin_lpis_poly_110\u001b[0m\n",
      "\u001b[32m2025-03-14 09:07:41.304\u001b[0m | \u001b[33m\u001b[1mWARNING \u001b[0m | \u001b[36mworldcereal.rdm_api.rdm_interaction\u001b[0m:\u001b[36mget_crop_counts\u001b[0m:\u001b[36m303\u001b[0m - \u001b[33m\u001b[1mNo crop counts available for collection 2019_fra_lpis_poly_110\u001b[0m\n",
      "\u001b[32m2025-03-14 09:07:43.409\u001b[0m | \u001b[33m\u001b[1mWARNING \u001b[0m | \u001b[36mworldcereal.rdm_api.rdm_interaction\u001b[0m:\u001b[36mget_crop_counts\u001b[0m:\u001b[36m303\u001b[0m - \u001b[33m\u001b[1mNo crop counts available for collection 2018_aut_lpis_poly_110\u001b[0m\n",
      "\u001b[32m2025-03-14 09:07:49.987\u001b[0m | \u001b[33m\u001b[1mWARNING \u001b[0m | \u001b[36mworldcereal.rdm_api.rdm_interaction\u001b[0m:\u001b[36mget_crop_counts\u001b[0m:\u001b[36m303\u001b[0m - \u001b[33m\u001b[1mNo crop counts available for collection 2021_fin_lpis_poly_110\u001b[0m\n",
      "\u001b[32m2025-03-14 09:07:54.394\u001b[0m | \u001b[33m\u001b[1mWARNING \u001b[0m | \u001b[36mworldcereal.rdm_api.rdm_interaction\u001b[0m:\u001b[36mget_crop_counts\u001b[0m:\u001b[36m303\u001b[0m - \u001b[33m\u001b[1mNo crop counts available for collection 2021_aut_lpis_poly_110\u001b[0m\n"
     ]
    },
    {
     "name": "stdout",
     "output_type": "stream",
     "text": [
      "Number of samples found: 345414\n",
      "ref_id                   2017_as_cawaproject_poly_111  2017_aut_lpis_poly_110  \\\n",
      "ewoc_code  Label                                                                \n",
      "1106000020 soy_soybeans                             2                   34939   \n",
      "\n",
      "ref_id                   2017_bel_lpisflanders_poly_110  \\\n",
      "ewoc_code  Label                                          \n",
      "1106000020 soy_soybeans                              18   \n",
      "\n",
      "ref_id                   2017_bfa_jecamcirad_poly_111  \\\n",
      "ewoc_code  Label                                        \n",
      "1106000020 soy_soybeans                            34   \n",
      "\n",
      "ref_id                   2017_bra_jecamcirad_poly_111  \\\n",
      "ewoc_code  Label                                        \n",
      "1106000020 soy_soybeans                            79   \n",
      "\n",
      "ref_id                   2017_can_aafccropinventory_point_110  \\\n",
      "ewoc_code  Label                                                \n",
      "1106000020 soy_soybeans                                 16907   \n",
      "\n",
      "ref_id                   2017_fra_lpis_poly_110  2017_mdg_jecamcirad_poly_111  \\\n",
      "ewoc_code  Label                                                                \n",
      "1106000020 soy_soybeans                   35582                            18   \n",
      "\n",
      "ref_id                   2018_bel_lpisflanders_poly_110  \\\n",
      "ewoc_code  Label                                          \n",
      "1106000020 soy_soybeans                              22   \n",
      "\n",
      "ref_id                   2018_bfa_jecamcirad_poly_111  ...  \\\n",
      "ewoc_code  Label                                       ...   \n",
      "1106000020 soy_soybeans                            59  ...   \n",
      "\n",
      "ref_id                   2021_rwa_faowaporakagera_poly_111  \\\n",
      "ewoc_code  Label                                             \n",
      "1106000020 soy_soybeans                                  4   \n",
      "\n",
      "ref_id                   2021_rwa_faowapormuvu_poly_111  \\\n",
      "ewoc_code  Label                                          \n",
      "1106000020 soy_soybeans                               9   \n",
      "\n",
      "ref_id                   2021_svk_eurocrops_poly_110  \\\n",
      "ewoc_code  Label                                       \n",
      "1106000020 soy_soybeans                         5540   \n",
      "\n",
      "ref_id                   2021_uga_copernicusgeoglamlr_point_111  \\\n",
      "ewoc_code  Label                                                  \n",
      "1106000020 soy_soybeans                                       5   \n",
      "\n",
      "ref_id                   2021_uga_copernicusgeoglamsr_point_111  \\\n",
      "ewoc_code  Label                                                  \n",
      "1106000020 soy_soybeans                                      20   \n",
      "\n",
      "ref_id                   2022_aus_clumcom_poly_110  2022_aut_lpis_poly_110  \\\n",
      "ewoc_code  Label                                                             \n",
      "1106000020 soy_soybeans                        520                    4348   \n",
      "\n",
      "ref_id                   2022_glo_ewocval_poly_111  2023_aus_clumcom_poly_110  \\\n",
      "ewoc_code  Label                                                                \n",
      "1106000020 soy_soybeans                          6                        692   \n",
      "\n",
      "ref_id                   2023_idn_vitocampaign_poly_110  \n",
      "ewoc_code  Label                                         \n",
      "1106000020 soy_soybeans                               3  \n",
      "\n",
      "[1 rows x 53 columns]\n"
     ]
    },
    {
     "data": {
      "application/vnd.jupyter.widget-view+json": {
       "model_id": "bef40cf5d3b34f88911c1142140de847",
       "version_major": 2,
       "version_minor": 0
      },
      "text/plain": [
       "Map(center=[0, 0], controls=(ZoomControl(options=['position', 'zoom_in_text', 'zoom_in_title', 'zoom_out_text'…"
      ]
     },
     "execution_count": 2,
     "metadata": {},
     "output_type": "execute_result"
    }
   ],
   "source": [
    "# SOYBEAN\n",
    "ewoc_code = 1106000020\n",
    "\n",
    "# Get a list of your private collections\n",
    "collections = rdm.get_collections(include_public=True, include_private=True, ewoc_codes=[ewoc_code])\n",
    "\n",
    "# Extract the collection ID's\n",
    "ids = [col.id for col in collections]\n",
    "print(f'Number of collections found: {len(ids)}')\n",
    "print(ids)\n",
    "\n",
    "counts = rdm.get_crop_counts(ref_ids=ids, ewoc_codes=[ewoc_code])\n",
    "print(f'Number of samples found: {np.sum(counts.values)}')\n",
    "print(counts)\n",
    "\n",
    "visualize_spatial_extents(collections)"
   ]
  },
  {
   "cell_type": "code",
   "execution_count": 3,
   "metadata": {},
   "outputs": [
    {
     "name": "stdout",
     "output_type": "stream",
     "text": [
      "Number of collections found: 6\n",
      "['2019_glo_descals20242_point_110', '2019_sa_yupanquietal2023_poly_110', '2019_per_frickeretal2023_poly_110', '2019_gl_frickeretal2022palm_poly_110', '2019_gl_yupanquietal2023palm_poly_110', '2023_idn_vitocampaign_poly_110']\n",
      "Number of samples found: 11260\n",
      "ref_id                2019_gl_frickeretal2022palm_poly_110  \\\n",
      "ewoc_code  Label                                             \n",
      "1203000030 oil_palms                                  1288   \n",
      "\n",
      "ref_id                2019_gl_yupanquietal2023palm_poly_110  \\\n",
      "ewoc_code  Label                                              \n",
      "1203000030 oil_palms                                   3382   \n",
      "\n",
      "ref_id                2019_glo_descals20242_point_110  \\\n",
      "ewoc_code  Label                                        \n",
      "1203000030 oil_palms                             1905   \n",
      "\n",
      "ref_id                2019_per_frickeretal2023_poly_110  \\\n",
      "ewoc_code  Label                                          \n",
      "1203000030 oil_palms                               1288   \n",
      "\n",
      "ref_id                2019_sa_yupanquietal2023_poly_110  \\\n",
      "ewoc_code  Label                                          \n",
      "1203000030 oil_palms                               3382   \n",
      "\n",
      "ref_id                2023_idn_vitocampaign_poly_110  \n",
      "ewoc_code  Label                                      \n",
      "1203000030 oil_palms                              15  \n"
     ]
    },
    {
     "data": {
      "application/vnd.jupyter.widget-view+json": {
       "model_id": "ee7904b793424991af4a2850a9ffc8ca",
       "version_major": 2,
       "version_minor": 0
      },
      "text/plain": [
       "Map(center=[0, 0], controls=(ZoomControl(options=['position', 'zoom_in_text', 'zoom_in_title', 'zoom_out_text'…"
      ]
     },
     "execution_count": 3,
     "metadata": {},
     "output_type": "execute_result"
    }
   ],
   "source": [
    "# OIL PALM\n",
    "ewoc_code = 1203000030\n",
    "\n",
    "# Get a list of your private collections\n",
    "collections = rdm.get_collections(include_public=True, include_private=True, ewoc_codes=[ewoc_code])\n",
    "\n",
    "# Extract the collection ID's\n",
    "ids = [col.id for col in collections]\n",
    "print(f'Number of collections found: {len(ids)}')\n",
    "print(ids)\n",
    "\n",
    "counts = rdm.get_crop_counts(ref_ids=ids, ewoc_codes=[ewoc_code])\n",
    "print(f'Number of samples found: {np.sum(counts.values)}')\n",
    "\n",
    "print(counts)\n",
    "\n",
    "visualize_spatial_extents(collections)"
   ]
  },
  {
   "cell_type": "code",
   "execution_count": 4,
   "metadata": {},
   "outputs": [
    {
     "name": "stdout",
     "output_type": "stream",
     "text": [
      "Number of collections found: 11\n",
      "['2018_sa_maemagapcoffee_poly_110', '2020_bra_inpelemaug_poly_110', '2020_bra_inpelemfeb_poly_110', '2020_bra_inpelemmar_poly_110', '2019_mdg_jecamcirad_poly_111', '2021_uga_copernicusgeoglamlr_point_111', '2021_uga_copernicusgeoglamsr_point_111', '2023_idn_vitocampaign_poly_110', '2017_bra_jecamcirad_poly_111', '2021_ken_copernicusgeoglamlr_point_111', '2021_ken_copernicusgeoglamsr_point_111']\n",
      "Number of samples found: 6108\n",
      "ref_id             2017_bra_jecamcirad_poly_111  \\\n",
      "ewoc_code  Label                                  \n",
      "1202000010 coffee                             9   \n",
      "\n",
      "ref_id             2018_sa_maemagapcoffee_poly_110  \\\n",
      "ewoc_code  Label                                     \n",
      "1202000010 coffee                             5909   \n",
      "\n",
      "ref_id             2019_mdg_jecamcirad_poly_111  2020_bra_inpelemaug_poly_110  \\\n",
      "ewoc_code  Label                                                                \n",
      "1202000010 coffee                             1                            19   \n",
      "\n",
      "ref_id             2020_bra_inpelemfeb_poly_110  2020_bra_inpelemmar_poly_110  \\\n",
      "ewoc_code  Label                                                                \n",
      "1202000010 coffee                            20                            20   \n",
      "\n",
      "ref_id             2021_ken_copernicusgeoglamlr_point_111  \\\n",
      "ewoc_code  Label                                            \n",
      "1202000010 coffee                                      30   \n",
      "\n",
      "ref_id             2021_ken_copernicusgeoglamsr_point_111  \\\n",
      "ewoc_code  Label                                            \n",
      "1202000010 coffee                                      27   \n",
      "\n",
      "ref_id             2021_uga_copernicusgeoglamlr_point_111  \\\n",
      "ewoc_code  Label                                            \n",
      "1202000010 coffee                                      44   \n",
      "\n",
      "ref_id             2021_uga_copernicusgeoglamsr_point_111  \\\n",
      "ewoc_code  Label                                            \n",
      "1202000010 coffee                                      11   \n",
      "\n",
      "ref_id             2023_idn_vitocampaign_poly_110  \n",
      "ewoc_code  Label                                   \n",
      "1202000010 coffee                              18  \n"
     ]
    },
    {
     "data": {
      "application/vnd.jupyter.widget-view+json": {
       "model_id": "bf7ea39482944de895c0bad8e6e6b8b9",
       "version_major": 2,
       "version_minor": 0
      },
      "text/plain": [
       "Map(center=[0, 0], controls=(ZoomControl(options=['position', 'zoom_in_text', 'zoom_in_title', 'zoom_out_text'…"
      ]
     },
     "execution_count": 4,
     "metadata": {},
     "output_type": "execute_result"
    }
   ],
   "source": [
    "# COFFEE\n",
    "ewoc_code = 1202000010\n",
    "\n",
    "# Get a list of your private collections\n",
    "collections = rdm.get_collections(include_public=True, include_private=True, ewoc_codes=[ewoc_code])\n",
    "\n",
    "# Extract the collection ID's\n",
    "ids = [col.id for col in collections]\n",
    "print(f'Number of collections found: {len(ids)}')\n",
    "print(ids)\n",
    "\n",
    "counts = rdm.get_crop_counts(ref_ids=ids, ewoc_codes=[ewoc_code])\n",
    "print(f'Number of samples found: {np.sum(counts.values)}')\n",
    "print(counts)\n",
    "\n",
    "visualize_spatial_extents(collections)"
   ]
  },
  {
   "cell_type": "code",
   "execution_count": 5,
   "metadata": {},
   "outputs": [
    {
     "name": "stdout",
     "output_type": "stream",
     "text": [
      "Number of collections found: 11\n",
      "['2020_sa_cgiar_point_110', '2021_bra_meridia_poly_110', '2023_af_meridia_poly_110', '2023_af_meridia1_poly_110', '2021_gl_meridia_poly_110', '2022_nga_meridia_poly_110', '2023_bra_meridia_poly_110', '2025_af_meridia_poly_110', '2024_nga_meridia_poly_110', '2024_bra_meridia_poly_110', '2024_bra_meridia1_poly_110']\n",
      "Number of samples found: 57355\n",
      "ref_id            2020_sa_cgiar_point_110  2021_bra_meridia_poly_110  \\\n",
      "ewoc_code  Label                                                       \n",
      "1202000040 cocoa                    19685                          1   \n",
      "\n",
      "ref_id            2021_gl_meridia_poly_110  2022_nga_meridia_poly_110  \\\n",
      "ewoc_code  Label                                                        \n",
      "1202000040 cocoa                         1                          1   \n",
      "\n",
      "ref_id            2023_af_meridia1_poly_110  2023_af_meridia_poly_110  \\\n",
      "ewoc_code  Label                                                        \n",
      "1202000040 cocoa                      25576                     10784   \n",
      "\n",
      "ref_id            2023_bra_meridia_poly_110  2024_bra_meridia1_poly_110  \\\n",
      "ewoc_code  Label                                                          \n",
      "1202000040 cocoa                        730                         263   \n",
      "\n",
      "ref_id            2024_bra_meridia_poly_110  2024_nga_meridia_poly_110  \\\n",
      "ewoc_code  Label                                                         \n",
      "1202000040 cocoa                          6                        210   \n",
      "\n",
      "ref_id            2025_af_meridia_poly_110  \n",
      "ewoc_code  Label                            \n",
      "1202000040 cocoa                        98  \n"
     ]
    },
    {
     "data": {
      "application/vnd.jupyter.widget-view+json": {
       "model_id": "cb03435e9fa74e36b5e780523cac2509",
       "version_major": 2,
       "version_minor": 0
      },
      "text/plain": [
       "Map(center=[0, 0], controls=(ZoomControl(options=['position', 'zoom_in_text', 'zoom_in_title', 'zoom_out_text'…"
      ]
     },
     "execution_count": 5,
     "metadata": {},
     "output_type": "execute_result"
    }
   ],
   "source": [
    "# COCOA\n",
    "ewoc_code = 1202000040\n",
    "\n",
    "# Get a list of your private collections\n",
    "collections = rdm.get_collections(include_public=True, include_private=True, ewoc_codes=[ewoc_code])\n",
    "\n",
    "# Extract the collection ID's\n",
    "ids = [col.id for col in collections]\n",
    "print(f'Number of collections found: {len(ids)}')\n",
    "print(ids)\n",
    "\n",
    "counts = rdm.get_crop_counts(ref_ids=ids, ewoc_codes=[ewoc_code])\n",
    "print(f'Number of samples found: {np.sum(counts.values)}')\n",
    "print(counts)\n",
    "\n",
    "visualize_spatial_extents(collections)"
   ]
  },
  {
   "cell_type": "code",
   "execution_count": 6,
   "metadata": {},
   "outputs": [
    {
     "name": "stdout",
     "output_type": "stream",
     "text": [
      "Number of collections found: 2\n",
      "['2021_as_wangetal2024_point_110', '2023_idn_vitocampaign_poly_110']\n",
      "Number of samples found: 2013\n",
      "ref_id             2021_as_wangetal2024_point_110  \\\n",
      "ewoc_code  Label                                    \n",
      "1206000080 rubber                            2010   \n",
      "\n",
      "ref_id             2023_idn_vitocampaign_poly_110  \n",
      "ewoc_code  Label                                   \n",
      "1206000080 rubber                               3  \n"
     ]
    },
    {
     "data": {
      "application/vnd.jupyter.widget-view+json": {
       "model_id": "0927490c6a2748639e43ccb5d4890da1",
       "version_major": 2,
       "version_minor": 0
      },
      "text/plain": [
       "Map(center=[0, 0], controls=(ZoomControl(options=['position', 'zoom_in_text', 'zoom_in_title', 'zoom_out_text'…"
      ]
     },
     "execution_count": 6,
     "metadata": {},
     "output_type": "execute_result"
    }
   ],
   "source": [
    "# RUBBER\n",
    "ewoc_code = 1206000080\n",
    "\n",
    "# Get a list of your private collections\n",
    "collections = rdm.get_collections(include_public=True, include_private=True, ewoc_codes=[ewoc_code])\n",
    "\n",
    "# Extract the collection ID's\n",
    "ids = [col.id for col in collections]\n",
    "print(f'Number of collections found: {len(ids)}')\n",
    "print(ids)\n",
    "\n",
    "counts = rdm.get_crop_counts(ref_ids=ids, ewoc_codes=[ewoc_code])\n",
    "print(f'Number of samples found: {np.sum(counts.values)}')\n",
    "print(counts)\n",
    "\n",
    "visualize_spatial_extents(collections)"
   ]
  },
  {
   "cell_type": "code",
   "execution_count": 7,
   "metadata": {},
   "outputs": [
    {
     "name": "stdout",
     "output_type": "stream",
     "text": [
      "Number of collections found: 25\n",
      "['2017_bel_lpisflanders_poly_110', '2023_npl_cimmyt_poly_110', '2018_bel_lpisflanders_poly_110', '2018_irl_lpis_poly_110', '2019_irl_lpis_poly_110', '2020_irl_lpis_poly_110', '2022_aut_lpis_poly_110', '2023_irl_lpis_poly_110', '2022_irl_lpis_poly_110', '2021_irl_lpis_poly_110', '2019_can_aafccropinventory_point_110', '2020_fin_lpis_poly_110', '2019_aut_lpis_poly_110', '2020_aut_lpis_poly_110', '2020_bel_lpisflanders_poly_110', '2017_aut_lpis_poly_110', '2020_can_aafccropinventory_point_110', '2018_aut_lpis_poly_110', '2018_can_aafccropinventory_point_110', '2019_bel_lpisflanders_poly_110', '2021_fin_lpis_poly_110', '2017_can_aafccropinventory_point_110', '2021_bel_lpisflanders_poly_110', '2021_can_aafccropinventory_point_110', '2021_aut_lpis_poly_110']\n"
     ]
    },
    {
     "name": "stderr",
     "output_type": "stream",
     "text": [
      "\u001b[32m2025-03-14 09:17:35.632\u001b[0m | \u001b[33m\u001b[1mWARNING \u001b[0m | \u001b[36mworldcereal.rdm_api.rdm_interaction\u001b[0m:\u001b[36mget_crop_counts\u001b[0m:\u001b[36m303\u001b[0m - \u001b[33m\u001b[1mNo crop counts available for collection 2020_fin_lpis_poly_110\u001b[0m\n",
      "\u001b[32m2025-03-14 09:17:36.924\u001b[0m | \u001b[33m\u001b[1mWARNING \u001b[0m | \u001b[36mworldcereal.rdm_api.rdm_interaction\u001b[0m:\u001b[36mget_crop_counts\u001b[0m:\u001b[36m303\u001b[0m - \u001b[33m\u001b[1mNo crop counts available for collection 2018_aut_lpis_poly_110\u001b[0m\n",
      "\u001b[32m2025-03-14 09:17:37.489\u001b[0m | \u001b[33m\u001b[1mWARNING \u001b[0m | \u001b[36mworldcereal.rdm_api.rdm_interaction\u001b[0m:\u001b[36mget_crop_counts\u001b[0m:\u001b[36m303\u001b[0m - \u001b[33m\u001b[1mNo crop counts available for collection 2021_fin_lpis_poly_110\u001b[0m\n",
      "\u001b[32m2025-03-14 09:17:38.402\u001b[0m | \u001b[33m\u001b[1mWARNING \u001b[0m | \u001b[36mworldcereal.rdm_api.rdm_interaction\u001b[0m:\u001b[36mget_crop_counts\u001b[0m:\u001b[36m303\u001b[0m - \u001b[33m\u001b[1mNo crop counts available for collection 2021_aut_lpis_poly_110\u001b[0m\n"
     ]
    },
    {
     "name": "stdout",
     "output_type": "stream",
     "text": [
      "Number of samples found: 2301528\n",
      "ref_id               2017_aut_lpis_poly_110  2017_bel_lpisflanders_poly_110  \\\n",
      "ewoc_code  Label                                                              \n",
      "2001020010 pastures                  402488                             494   \n",
      "\n",
      "ref_id               2017_can_aafccropinventory_point_110  \\\n",
      "ewoc_code  Label                                            \n",
      "2001020010 pastures                                  9235   \n",
      "\n",
      "ref_id               2018_bel_lpisflanders_poly_110  \\\n",
      "ewoc_code  Label                                      \n",
      "2001020010 pastures                             339   \n",
      "\n",
      "ref_id               2018_can_aafccropinventory_point_110  \\\n",
      "ewoc_code  Label                                            \n",
      "2001020010 pastures                                  7062   \n",
      "\n",
      "ref_id               2018_irl_lpis_poly_110  2019_aut_lpis_poly_110  \\\n",
      "ewoc_code  Label                                                      \n",
      "2001020010 pastures                  139362                  437573   \n",
      "\n",
      "ref_id               2019_bel_lpisflanders_poly_110  \\\n",
      "ewoc_code  Label                                      \n",
      "2001020010 pastures                            1618   \n",
      "\n",
      "ref_id               2019_can_aafccropinventory_point_110  \\\n",
      "ewoc_code  Label                                            \n",
      "2001020010 pastures                                  7283   \n",
      "\n",
      "ref_id               2019_irl_lpis_poly_110  ...  \\\n",
      "ewoc_code  Label                             ...   \n",
      "2001020010 pastures                  146769  ...   \n",
      "\n",
      "ref_id               2020_bel_lpisflanders_poly_110  \\\n",
      "ewoc_code  Label                                      \n",
      "2001020010 pastures                            1938   \n",
      "\n",
      "ref_id               2020_can_aafccropinventory_point_110  \\\n",
      "ewoc_code  Label                                            \n",
      "2001020010 pastures                                  4161   \n",
      "\n",
      "ref_id               2020_irl_lpis_poly_110  2021_bel_lpisflanders_poly_110  \\\n",
      "ewoc_code  Label                                                              \n",
      "2001020010 pastures                  154874                            2005   \n",
      "\n",
      "ref_id               2021_can_aafccropinventory_point_110  \\\n",
      "ewoc_code  Label                                            \n",
      "2001020010 pastures                                  1143   \n",
      "\n",
      "ref_id               2021_irl_lpis_poly_110  2022_aut_lpis_poly_110  \\\n",
      "ewoc_code  Label                                                      \n",
      "2001020010 pastures                  153960                   48727   \n",
      "\n",
      "ref_id               2022_irl_lpis_poly_110  2023_irl_lpis_poly_110  \\\n",
      "ewoc_code  Label                                                      \n",
      "2001020010 pastures                  172566                  158084   \n",
      "\n",
      "ref_id               2023_npl_cimmyt_poly_110  \n",
      "ewoc_code  Label                               \n",
      "2001020010 pastures                        56  \n",
      "\n",
      "[1 rows x 21 columns]\n"
     ]
    },
    {
     "data": {
      "application/vnd.jupyter.widget-view+json": {
       "model_id": "57547a15433b4245933722f81e8e9269",
       "version_major": 2,
       "version_minor": 0
      },
      "text/plain": [
       "Map(center=[0, 0], controls=(ZoomControl(options=['position', 'zoom_in_text', 'zoom_in_title', 'zoom_out_text'…"
      ]
     },
     "execution_count": 7,
     "metadata": {},
     "output_type": "execute_result"
    }
   ],
   "source": [
    "# BEEF (Pasture)\n",
    "ewoc_code = 2001020010\n",
    "\n",
    "# Get a list of your private collections\n",
    "collections = rdm.get_collections(include_public=True, include_private=True, ewoc_codes=[ewoc_code])\n",
    "\n",
    "# Extract the collection ID's\n",
    "ids = [col.id for col in collections]\n",
    "print(f'Number of collections found: {len(ids)}')\n",
    "print(ids)\n",
    "\n",
    "counts = rdm.get_crop_counts(ref_ids=ids, ewoc_codes=[ewoc_code])\n",
    "print(f'Number of samples found: {np.sum(counts.values)}')\n",
    "print(counts)\n",
    "\n",
    "visualize_spatial_extents(collections)"
   ]
  }
 ],
 "metadata": {
  "kernelspec": {
   "display_name": "worldcereal",
   "language": "python",
   "name": "python3"
  },
  "language_info": {
   "codemirror_mode": {
    "name": "ipython",
    "version": 3
   },
   "file_extension": ".py",
   "mimetype": "text/x-python",
   "name": "python",
   "nbconvert_exporter": "python",
   "pygments_lexer": "ipython3",
   "version": "3.10.0"
  }
 },
 "nbformat": 4,
 "nbformat_minor": 2
}
