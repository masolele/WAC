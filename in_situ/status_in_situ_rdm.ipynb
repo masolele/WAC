{
 "cells": [
  {
   "cell_type": "code",
   "execution_count": 1,
   "metadata": {},
   "outputs": [],
   "source": [
    "import numpy as np\n",
    "from worldcereal.rdm_api.rdm_collection import visualize_spatial_extents\n",
    "\n",
    "# We first initiate an interaction session with the RDM:\n",
    "from worldcereal.rdm_api import RdmInteraction\n",
    "rdm = RdmInteraction()"
   ]
  },
  {
   "cell_type": "code",
   "execution_count": null,
   "metadata": {},
   "outputs": [
    {
     "name": "stdout",
     "output_type": "stream",
     "text": [
      "Number of collections found: 59\n",
      "['2021_deu_eurocropsls_poly_110', '2022_aus_clumcom_poly_110', '2017_bel_lpisflanders_poly_110', '2018_bel_lpisflanders_poly_110', '2021_glo_ewocval_poly_111', '2022_glo_ewocval_poly_111', '2018_irl_lpis_poly_110', '2019_esp_sigpaccatalunya_poly_111', '2022_aut_lpis_poly_110', '2023_aus_clumcom_poly_110', '2019_can_aafccropinventory_point_110', '2021_svk_eurocrops_poly_110', '2020_svn_lpis_poly_110', '2018_nld_lpis_poly_110', '2021_lva_lpis_poly_110', '2020_fin_lpis_poly_110', '2020_nld_lpis_poly_110', '2019_aut_lpis_poly_110', '2018_fra_lpis_poly_110', '2020_aut_lpis_poly_110', '2019_fra_lpis_poly_110', '2020_bel_lpisflanders_poly_110', '2017_aut_lpis_poly_110', '2020_bra_inpelemfeb_poly_110', '2020_bra_inpelemmar_poly_110', '2020_can_aafccropinventory_point_110', '2018_aut_lpis_poly_110', '2017_mdg_jecamcirad_poly_111', '2018_bfa_jecamcirad_poly_111', '2018_can_aafccropinventory_point_110', '2018_eu_lucas_point_110', '2018_mdg_jecamcirad_poly_111', '2019_ken_radiantearth01_poly_111', '2019_mdg_jecamcirad_poly_111', '2019_usausda2019cdls_point_110', '2020_rwa_faowapor1_point_111', '2020_rwa_faowaporakagera_point_111', '2020_sdn_faowapor1_poly_110', '2021_uga_copernicusgeoglamlr_point_111', '2021_uga_copernicusgeoglamsr_point_111', '2023_idn_vitocampaign_poly_110', '2019_bel_lpisflanders_poly_110', '2021_deu_eurocropsnrw_poly_110', '2021_fin_lpis_poly_110', '2019_dnk_eurocrops_poly_110', '2019_nld_lpis_poly_110', '2021_nld_lpis_poly_110', '2019_lva_lpis_poly_110', '2017_as_cawaproject_poly_111', '2017_bfa_jecamcirad_poly_111', '2017_bra_jecamcirad_poly_111', '2017_can_aafccropinventory_point_110', '2017_fra_lpis_poly_110', '2021_bel_lpisflanders_poly_110', '2021_can_aafccropinventory_point_110', '2021_rwa_faowaporakagera_poly_111', '2021_rwa_faowapormuvu_poly_111', '2020_fra_lpis_poly_110', '2021_aut_lpis_poly_110']\n"
     ]
    },
    {
     "name": "stderr",
     "output_type": "stream",
     "text": [
      "\u001b[32m2025-03-07 09:43:29.709\u001b[0m | \u001b[33m\u001b[1mWARNING \u001b[0m | \u001b[36mworldcereal.rdm_api.rdm_interaction\u001b[0m:\u001b[36mget_crop_counts\u001b[0m:\u001b[36m287\u001b[0m - \u001b[33m\u001b[1mNo crop counts available for collection 2019_esp_sigpaccatalunya_poly_111\u001b[0m\n",
      "\u001b[32m2025-03-07 09:43:31.748\u001b[0m | \u001b[33m\u001b[1mWARNING \u001b[0m | \u001b[36mworldcereal.rdm_api.rdm_interaction\u001b[0m:\u001b[36mget_crop_counts\u001b[0m:\u001b[36m287\u001b[0m - \u001b[33m\u001b[1mNo crop counts available for collection 2020_fin_lpis_poly_110\u001b[0m\n",
      "\u001b[32m2025-03-07 09:43:32.784\u001b[0m | \u001b[33m\u001b[1mWARNING \u001b[0m | \u001b[36mworldcereal.rdm_api.rdm_interaction\u001b[0m:\u001b[36mget_crop_counts\u001b[0m:\u001b[36m287\u001b[0m - \u001b[33m\u001b[1mNo crop counts available for collection 2019_fra_lpis_poly_110\u001b[0m\n",
      "\u001b[32m2025-03-07 09:43:34.128\u001b[0m | \u001b[33m\u001b[1mWARNING \u001b[0m | \u001b[36mworldcereal.rdm_api.rdm_interaction\u001b[0m:\u001b[36mget_crop_counts\u001b[0m:\u001b[36m287\u001b[0m - \u001b[33m\u001b[1mNo crop counts available for collection 2018_aut_lpis_poly_110\u001b[0m\n",
      "\u001b[32m2025-03-07 09:43:38.130\u001b[0m | \u001b[33m\u001b[1mWARNING \u001b[0m | \u001b[36mworldcereal.rdm_api.rdm_interaction\u001b[0m:\u001b[36mget_crop_counts\u001b[0m:\u001b[36m287\u001b[0m - \u001b[33m\u001b[1mNo crop counts available for collection 2021_fin_lpis_poly_110\u001b[0m\n",
      "\u001b[32m2025-03-07 09:43:41.466\u001b[0m | \u001b[33m\u001b[1mWARNING \u001b[0m | \u001b[36mworldcereal.rdm_api.rdm_interaction\u001b[0m:\u001b[36mget_crop_counts\u001b[0m:\u001b[36m287\u001b[0m - \u001b[33m\u001b[1mNo crop counts available for collection 2021_aut_lpis_poly_110\u001b[0m\n"
     ]
    },
    {
     "name": "stdout",
     "output_type": "stream",
     "text": [
      "Number of samples found: 345414\n"
     ]
    },
    {
     "data": {
      "text/html": [
       "<div>\n",
       "<style scoped>\n",
       "    .dataframe tbody tr th:only-of-type {\n",
       "        vertical-align: middle;\n",
       "    }\n",
       "\n",
       "    .dataframe tbody tr th {\n",
       "        vertical-align: top;\n",
       "    }\n",
       "\n",
       "    .dataframe thead th {\n",
       "        text-align: right;\n",
       "    }\n",
       "</style>\n",
       "<table border=\"1\" class=\"dataframe\">\n",
       "  <thead>\n",
       "    <tr style=\"text-align: right;\">\n",
       "      <th></th>\n",
       "      <th>ref_id</th>\n",
       "      <th>2017_as_cawaproject_poly_111</th>\n",
       "      <th>2017_aut_lpis_poly_110</th>\n",
       "      <th>2017_bel_lpisflanders_poly_110</th>\n",
       "      <th>2017_bfa_jecamcirad_poly_111</th>\n",
       "      <th>2017_bra_jecamcirad_poly_111</th>\n",
       "      <th>2017_can_aafccropinventory_point_110</th>\n",
       "      <th>2017_fra_lpis_poly_110</th>\n",
       "      <th>2017_mdg_jecamcirad_poly_111</th>\n",
       "      <th>2018_bel_lpisflanders_poly_110</th>\n",
       "      <th>2018_bfa_jecamcirad_poly_111</th>\n",
       "      <th>...</th>\n",
       "      <th>2021_rwa_faowaporakagera_poly_111</th>\n",
       "      <th>2021_rwa_faowapormuvu_poly_111</th>\n",
       "      <th>2021_svk_eurocrops_poly_110</th>\n",
       "      <th>2021_uga_copernicusgeoglamlr_point_111</th>\n",
       "      <th>2021_uga_copernicusgeoglamsr_point_111</th>\n",
       "      <th>2022_aus_clumcom_poly_110</th>\n",
       "      <th>2022_aut_lpis_poly_110</th>\n",
       "      <th>2022_glo_ewocval_poly_111</th>\n",
       "      <th>2023_aus_clumcom_poly_110</th>\n",
       "      <th>2023_idn_vitocampaign_poly_110</th>\n",
       "    </tr>\n",
       "    <tr>\n",
       "      <th>ewoc_code</th>\n",
       "      <th>Label</th>\n",
       "      <th></th>\n",
       "      <th></th>\n",
       "      <th></th>\n",
       "      <th></th>\n",
       "      <th></th>\n",
       "      <th></th>\n",
       "      <th></th>\n",
       "      <th></th>\n",
       "      <th></th>\n",
       "      <th></th>\n",
       "      <th></th>\n",
       "      <th></th>\n",
       "      <th></th>\n",
       "      <th></th>\n",
       "      <th></th>\n",
       "      <th></th>\n",
       "      <th></th>\n",
       "      <th></th>\n",
       "      <th></th>\n",
       "      <th></th>\n",
       "      <th></th>\n",
       "    </tr>\n",
       "  </thead>\n",
       "  <tbody>\n",
       "    <tr>\n",
       "      <th>1106000020</th>\n",
       "      <th>soy_soybeans</th>\n",
       "      <td>2</td>\n",
       "      <td>34939</td>\n",
       "      <td>18</td>\n",
       "      <td>34</td>\n",
       "      <td>79</td>\n",
       "      <td>16907</td>\n",
       "      <td>35582</td>\n",
       "      <td>18</td>\n",
       "      <td>22</td>\n",
       "      <td>59</td>\n",
       "      <td>...</td>\n",
       "      <td>4</td>\n",
       "      <td>9</td>\n",
       "      <td>5540</td>\n",
       "      <td>5</td>\n",
       "      <td>20</td>\n",
       "      <td>520</td>\n",
       "      <td>4348</td>\n",
       "      <td>6</td>\n",
       "      <td>692</td>\n",
       "      <td>3</td>\n",
       "    </tr>\n",
       "  </tbody>\n",
       "</table>\n",
       "<p>1 rows × 53 columns</p>\n",
       "</div>"
      ],
      "text/plain": [
       "ref_id                   2017_as_cawaproject_poly_111  2017_aut_lpis_poly_110  \\\n",
       "ewoc_code  Label                                                                \n",
       "1106000020 soy_soybeans                             2                   34939   \n",
       "\n",
       "ref_id                   2017_bel_lpisflanders_poly_110  \\\n",
       "ewoc_code  Label                                          \n",
       "1106000020 soy_soybeans                              18   \n",
       "\n",
       "ref_id                   2017_bfa_jecamcirad_poly_111  \\\n",
       "ewoc_code  Label                                        \n",
       "1106000020 soy_soybeans                            34   \n",
       "\n",
       "ref_id                   2017_bra_jecamcirad_poly_111  \\\n",
       "ewoc_code  Label                                        \n",
       "1106000020 soy_soybeans                            79   \n",
       "\n",
       "ref_id                   2017_can_aafccropinventory_point_110  \\\n",
       "ewoc_code  Label                                                \n",
       "1106000020 soy_soybeans                                 16907   \n",
       "\n",
       "ref_id                   2017_fra_lpis_poly_110  2017_mdg_jecamcirad_poly_111  \\\n",
       "ewoc_code  Label                                                                \n",
       "1106000020 soy_soybeans                   35582                            18   \n",
       "\n",
       "ref_id                   2018_bel_lpisflanders_poly_110  \\\n",
       "ewoc_code  Label                                          \n",
       "1106000020 soy_soybeans                              22   \n",
       "\n",
       "ref_id                   2018_bfa_jecamcirad_poly_111  ...  \\\n",
       "ewoc_code  Label                                       ...   \n",
       "1106000020 soy_soybeans                            59  ...   \n",
       "\n",
       "ref_id                   2021_rwa_faowaporakagera_poly_111  \\\n",
       "ewoc_code  Label                                             \n",
       "1106000020 soy_soybeans                                  4   \n",
       "\n",
       "ref_id                   2021_rwa_faowapormuvu_poly_111  \\\n",
       "ewoc_code  Label                                          \n",
       "1106000020 soy_soybeans                               9   \n",
       "\n",
       "ref_id                   2021_svk_eurocrops_poly_110  \\\n",
       "ewoc_code  Label                                       \n",
       "1106000020 soy_soybeans                         5540   \n",
       "\n",
       "ref_id                   2021_uga_copernicusgeoglamlr_point_111  \\\n",
       "ewoc_code  Label                                                  \n",
       "1106000020 soy_soybeans                                       5   \n",
       "\n",
       "ref_id                   2021_uga_copernicusgeoglamsr_point_111  \\\n",
       "ewoc_code  Label                                                  \n",
       "1106000020 soy_soybeans                                      20   \n",
       "\n",
       "ref_id                   2022_aus_clumcom_poly_110  2022_aut_lpis_poly_110  \\\n",
       "ewoc_code  Label                                                             \n",
       "1106000020 soy_soybeans                        520                    4348   \n",
       "\n",
       "ref_id                   2022_glo_ewocval_poly_111  2023_aus_clumcom_poly_110  \\\n",
       "ewoc_code  Label                                                                \n",
       "1106000020 soy_soybeans                          6                        692   \n",
       "\n",
       "ref_id                   2023_idn_vitocampaign_poly_110  \n",
       "ewoc_code  Label                                         \n",
       "1106000020 soy_soybeans                               3  \n",
       "\n",
       "[1 rows x 53 columns]"
      ]
     },
     "execution_count": 20,
     "metadata": {},
     "output_type": "execute_result"
    }
   ],
   "source": [
    "# SOYBEAN\n",
    "ewoc_code = 1106000020\n",
    "\n",
    "# Get a list of your private collections\n",
    "collections = rdm.get_collections(include_public=True, include_private=True, ewoc_codes=[ewoc_code])\n",
    "\n",
    "# Extract the collection ID's\n",
    "ids = [col.id for col in collections]\n",
    "print(f'Number of collections found: {len(ids)}')\n",
    "print(ids)\n",
    "\n",
    "counts = rdm.get_crop_counts(ref_ids=ids, ewoc_codes=[ewoc_code])\n",
    "print(f'Number of samples found: {np.sum(counts.values)}')\n",
    "print(counts)\n",
    "\n",
    "visualize_spatial_extents(collections)"
   ]
  },
  {
   "cell_type": "code",
   "execution_count": null,
   "metadata": {},
   "outputs": [
    {
     "name": "stdout",
     "output_type": "stream",
     "text": [
      "Number of collections found: 2\n",
      "['2019_glo_descals20242_point_110', '2023_idn_vitocampaign_poly_110']\n",
      "Number of samples found: 1920\n"
     ]
    },
    {
     "data": {
      "text/html": [
       "<div>\n",
       "<style scoped>\n",
       "    .dataframe tbody tr th:only-of-type {\n",
       "        vertical-align: middle;\n",
       "    }\n",
       "\n",
       "    .dataframe tbody tr th {\n",
       "        vertical-align: top;\n",
       "    }\n",
       "\n",
       "    .dataframe thead th {\n",
       "        text-align: right;\n",
       "    }\n",
       "</style>\n",
       "<table border=\"1\" class=\"dataframe\">\n",
       "  <thead>\n",
       "    <tr style=\"text-align: right;\">\n",
       "      <th></th>\n",
       "      <th>ref_id</th>\n",
       "      <th>2019_glo_descals20242_point_110</th>\n",
       "      <th>2023_idn_vitocampaign_poly_110</th>\n",
       "    </tr>\n",
       "    <tr>\n",
       "      <th>ewoc_code</th>\n",
       "      <th>Label</th>\n",
       "      <th></th>\n",
       "      <th></th>\n",
       "    </tr>\n",
       "  </thead>\n",
       "  <tbody>\n",
       "    <tr>\n",
       "      <th>1203000030</th>\n",
       "      <th>oil_palms</th>\n",
       "      <td>1905</td>\n",
       "      <td>15</td>\n",
       "    </tr>\n",
       "  </tbody>\n",
       "</table>\n",
       "</div>"
      ],
      "text/plain": [
       "ref_id                2019_glo_descals20242_point_110  \\\n",
       "ewoc_code  Label                                        \n",
       "1203000030 oil_palms                             1905   \n",
       "\n",
       "ref_id                2023_idn_vitocampaign_poly_110  \n",
       "ewoc_code  Label                                      \n",
       "1203000030 oil_palms                              15  "
      ]
     },
     "execution_count": 21,
     "metadata": {},
     "output_type": "execute_result"
    }
   ],
   "source": [
    "# OIL PALM\n",
    "ewoc_code = 1203000030\n",
    "\n",
    "# Get a list of your private collections\n",
    "collections = rdm.get_collections(include_public=True, include_private=True, ewoc_codes=[ewoc_code])\n",
    "\n",
    "# Extract the collection ID's\n",
    "ids = [col.id for col in collections]\n",
    "print(f'Number of collections found: {len(ids)}')\n",
    "print(ids)\n",
    "\n",
    "counts = rdm.get_crop_counts(ref_ids=ids, ewoc_codes=[ewoc_code])\n",
    "print(f'Number of samples found: {np.sum(counts.values)}')\n",
    "\n",
    "print(counts)\n",
    "\n",
    "visualize_spatial_extents(collections)"
   ]
  },
  {
   "cell_type": "code",
   "execution_count": 2,
   "metadata": {},
   "outputs": [
    {
     "name": "stderr",
     "output_type": "stream",
     "text": [
      "\u001b[32m2025-03-07 10:55:45.571\u001b[0m | \u001b[1mINFO    \u001b[0m | \u001b[36mworldcereal.rdm_api.rdm_interaction\u001b[0m:\u001b[36mget_collections\u001b[0m:\u001b[36m147\u001b[0m - \u001b[1mTo access private collections, you need to authenticate.\u001b[0m\n"
     ]
    },
    {
     "data": {
      "text/html": [
       "Visit <a href=\"https://sso.terrascope.be/auth/realms/terrascope/device?user_code=EZWZ-MWJJ\" title=\"Authenticate at https://sso.terrascope.be/auth/realms/terrascope/device?user_code=EZWZ-MWJJ\" target=\"_blank\" rel=\"noopener noreferrer\">https://sso.terrascope.be/auth/realms/terrascope/device?user_code=EZWZ-MWJJ</a> <a href=\"#\" onclick=\"navigator.clipboard.writeText('https://sso.terrascope.be/auth/realms/terrascope/device?user_code=EZWZ-MWJJ');return false;\" title=\"Copy authentication URL to clipboard\">&#128203;</a> to authenticate."
      ]
     },
     "metadata": {},
     "output_type": "display_data"
    },
    {
     "data": {
      "text/html": [
       "✅ Authorized successfully"
      ]
     },
     "metadata": {},
     "output_type": "display_data"
    },
    {
     "name": "stdout",
     "output_type": "stream",
     "text": [
      "Number of collections found: 10\n",
      "['2020_bra_inpelemaug_poly_110', '2020_bra_inpelemfeb_poly_110', '2020_bra_inpelemmar_poly_110', '2019_mdg_jecamcirad_poly_111', '2021_uga_copernicusgeoglamlr_point_111', '2021_uga_copernicusgeoglamsr_point_111', '2023_idn_vitocampaign_poly_110', '2017_bra_jecamcirad_poly_111', '2021_ken_copernicusgeoglamlr_point_111', '2021_ken_copernicusgeoglamsr_point_111']\n",
      "Number of samples found: 199\n",
      "ref_id             2017_bra_jecamcirad_poly_111  ...  2023_idn_vitocampaign_poly_110\n",
      "ewoc_code  Label                                 ...                                \n",
      "1202000010 coffee                             9  ...                              18\n",
      "\n",
      "[1 rows x 10 columns]\n"
     ]
    },
    {
     "data": {
      "application/vnd.jupyter.widget-view+json": {
       "model_id": "eda15efe4b1340e48e71d7c9fd4848df",
       "version_major": 2,
       "version_minor": 0
      },
      "text/plain": [
       "Map(center=[0, 0], controls=(ZoomControl(options=['position', 'zoom_in_text', 'zoom_in_title', 'zoom_out_text'…"
      ]
     },
     "execution_count": 2,
     "metadata": {},
     "output_type": "execute_result"
    }
   ],
   "source": [
    "# COFFEE\n",
    "ewoc_code = 1202000010\n",
    "\n",
    "# Get a list of your private collections\n",
    "collections = rdm.get_collections(include_public=True, include_private=True, ewoc_codes=[ewoc_code])\n",
    "\n",
    "# Extract the collection ID's\n",
    "ids = [col.id for col in collections]\n",
    "print(f'Number of collections found: {len(ids)}')\n",
    "print(ids)\n",
    "\n",
    "counts = rdm.get_crop_counts(ref_ids=ids, ewoc_codes=[ewoc_code])\n",
    "print(f'Number of samples found: {np.sum(counts.values)}')\n",
    "print(counts)\n",
    "\n",
    "visualize_spatial_extents(collections)"
   ]
  },
  {
   "cell_type": "code",
   "execution_count": null,
   "metadata": {},
   "outputs": [
    {
     "name": "stderr",
     "output_type": "stream",
     "text": [
      "\u001b[32m2025-03-07 09:50:37.347\u001b[0m | \u001b[1mINFO    \u001b[0m | \u001b[36mworldcereal.rdm_api.rdm_interaction\u001b[0m:\u001b[36mget_collections\u001b[0m:\u001b[36m195\u001b[0m - \u001b[1mNo collections found in the RDM for your search criteria.\u001b[0m\n"
     ]
    },
    {
     "name": "stdout",
     "output_type": "stream",
     "text": [
      "Number of collections found: 0\n",
      "[]\n",
      "Number of samples found: 0.0\n"
     ]
    },
    {
     "data": {
      "text/html": [
       "<div>\n",
       "<style scoped>\n",
       "    .dataframe tbody tr th:only-of-type {\n",
       "        vertical-align: middle;\n",
       "    }\n",
       "\n",
       "    .dataframe tbody tr th {\n",
       "        vertical-align: top;\n",
       "    }\n",
       "\n",
       "    .dataframe thead th {\n",
       "        text-align: right;\n",
       "    }\n",
       "</style>\n",
       "<table border=\"1\" class=\"dataframe\">\n",
       "  <thead>\n",
       "    <tr style=\"text-align: right;\">\n",
       "      <th></th>\n",
       "    </tr>\n",
       "  </thead>\n",
       "  <tbody>\n",
       "  </tbody>\n",
       "</table>\n",
       "</div>"
      ],
      "text/plain": [
       "Empty DataFrame\n",
       "Columns: []\n",
       "Index: []"
      ]
     },
     "execution_count": 23,
     "metadata": {},
     "output_type": "execute_result"
    }
   ],
   "source": [
    "# COCOA\n",
    "ewoc_code = 1202000040\n",
    "\n",
    "# Get a list of your private collections\n",
    "collections = rdm.get_collections(include_public=True, include_private=True, ewoc_codes=[ewoc_code])\n",
    "\n",
    "# Extract the collection ID's\n",
    "ids = [col.id for col in collections]\n",
    "print(f'Number of collections found: {len(ids)}')\n",
    "print(ids)\n",
    "\n",
    "counts = rdm.get_crop_counts(ref_ids=ids, ewoc_codes=[ewoc_code])\n",
    "print(f'Number of samples found: {np.sum(counts.values)}')\n",
    "print(counts)\n",
    "\n",
    "visualize_spatial_extents(collections)"
   ]
  },
  {
   "cell_type": "code",
   "execution_count": null,
   "metadata": {},
   "outputs": [
    {
     "name": "stdout",
     "output_type": "stream",
     "text": [
      "Number of collections found: 2\n",
      "['2021_as_wangetal2024_point_110', '2023_idn_vitocampaign_poly_110']\n",
      "Number of samples found: 2013\n"
     ]
    },
    {
     "data": {
      "text/html": [
       "<div>\n",
       "<style scoped>\n",
       "    .dataframe tbody tr th:only-of-type {\n",
       "        vertical-align: middle;\n",
       "    }\n",
       "\n",
       "    .dataframe tbody tr th {\n",
       "        vertical-align: top;\n",
       "    }\n",
       "\n",
       "    .dataframe thead th {\n",
       "        text-align: right;\n",
       "    }\n",
       "</style>\n",
       "<table border=\"1\" class=\"dataframe\">\n",
       "  <thead>\n",
       "    <tr style=\"text-align: right;\">\n",
       "      <th></th>\n",
       "      <th>ref_id</th>\n",
       "      <th>2021_as_wangetal2024_point_110</th>\n",
       "      <th>2023_idn_vitocampaign_poly_110</th>\n",
       "    </tr>\n",
       "    <tr>\n",
       "      <th>ewoc_code</th>\n",
       "      <th>Label</th>\n",
       "      <th></th>\n",
       "      <th></th>\n",
       "    </tr>\n",
       "  </thead>\n",
       "  <tbody>\n",
       "    <tr>\n",
       "      <th>1206000080</th>\n",
       "      <th>rubber</th>\n",
       "      <td>2010</td>\n",
       "      <td>3</td>\n",
       "    </tr>\n",
       "  </tbody>\n",
       "</table>\n",
       "</div>"
      ],
      "text/plain": [
       "ref_id             2021_as_wangetal2024_point_110  \\\n",
       "ewoc_code  Label                                    \n",
       "1206000080 rubber                            2010   \n",
       "\n",
       "ref_id             2023_idn_vitocampaign_poly_110  \n",
       "ewoc_code  Label                                   \n",
       "1206000080 rubber                               3  "
      ]
     },
     "execution_count": 24,
     "metadata": {},
     "output_type": "execute_result"
    }
   ],
   "source": [
    "# RUBBER\n",
    "ewoc_code = 1206000080\n",
    "\n",
    "# Get a list of your private collections\n",
    "collections = rdm.get_collections(include_public=True, include_private=True, ewoc_codes=[ewoc_code])\n",
    "\n",
    "# Extract the collection ID's\n",
    "ids = [col.id for col in collections]\n",
    "print(f'Number of collections found: {len(ids)}')\n",
    "print(ids)\n",
    "\n",
    "counts = rdm.get_crop_counts(ref_ids=ids, ewoc_codes=[ewoc_code])\n",
    "print(f'Number of samples found: {np.sum(counts.values)}')\n",
    "print(counts)\n",
    "\n",
    "visualize_spatial_extents(collections)"
   ]
  },
  {
   "cell_type": "code",
   "execution_count": null,
   "metadata": {},
   "outputs": [
    {
     "name": "stdout",
     "output_type": "stream",
     "text": [
      "Number of collections found: 25\n",
      "['2017_bel_lpisflanders_poly_110', '2023_npl_cimmyt_poly_110', '2018_bel_lpisflanders_poly_110', '2018_irl_lpis_poly_110', '2019_irl_lpis_poly_110', '2020_irl_lpis_poly_110', '2022_aut_lpis_poly_110', '2023_irl_lpis_poly_110', '2022_irl_lpis_poly_110', '2021_irl_lpis_poly_110', '2019_can_aafccropinventory_point_110', '2020_fin_lpis_poly_110', '2019_aut_lpis_poly_110', '2020_aut_lpis_poly_110', '2020_bel_lpisflanders_poly_110', '2017_aut_lpis_poly_110', '2020_can_aafccropinventory_point_110', '2018_aut_lpis_poly_110', '2018_can_aafccropinventory_point_110', '2019_bel_lpisflanders_poly_110', '2021_fin_lpis_poly_110', '2017_can_aafccropinventory_point_110', '2021_bel_lpisflanders_poly_110', '2021_can_aafccropinventory_point_110', '2021_aut_lpis_poly_110']\n"
     ]
    },
    {
     "name": "stderr",
     "output_type": "stream",
     "text": [
      "\u001b[32m2025-03-07 09:51:51.978\u001b[0m | \u001b[33m\u001b[1mWARNING \u001b[0m | \u001b[36mworldcereal.rdm_api.rdm_interaction\u001b[0m:\u001b[36mget_crop_counts\u001b[0m:\u001b[36m287\u001b[0m - \u001b[33m\u001b[1mNo crop counts available for collection 2020_fin_lpis_poly_110\u001b[0m\n",
      "\u001b[32m2025-03-07 09:51:53.280\u001b[0m | \u001b[33m\u001b[1mWARNING \u001b[0m | \u001b[36mworldcereal.rdm_api.rdm_interaction\u001b[0m:\u001b[36mget_crop_counts\u001b[0m:\u001b[36m287\u001b[0m - \u001b[33m\u001b[1mNo crop counts available for collection 2018_aut_lpis_poly_110\u001b[0m\n",
      "\u001b[32m2025-03-07 09:51:53.936\u001b[0m | \u001b[33m\u001b[1mWARNING \u001b[0m | \u001b[36mworldcereal.rdm_api.rdm_interaction\u001b[0m:\u001b[36mget_crop_counts\u001b[0m:\u001b[36m287\u001b[0m - \u001b[33m\u001b[1mNo crop counts available for collection 2021_fin_lpis_poly_110\u001b[0m\n",
      "\u001b[32m2025-03-07 09:51:54.799\u001b[0m | \u001b[33m\u001b[1mWARNING \u001b[0m | \u001b[36mworldcereal.rdm_api.rdm_interaction\u001b[0m:\u001b[36mget_crop_counts\u001b[0m:\u001b[36m287\u001b[0m - \u001b[33m\u001b[1mNo crop counts available for collection 2021_aut_lpis_poly_110\u001b[0m\n"
     ]
    },
    {
     "name": "stdout",
     "output_type": "stream",
     "text": [
      "Number of samples found: 2301528\n"
     ]
    },
    {
     "data": {
      "text/html": [
       "<div>\n",
       "<style scoped>\n",
       "    .dataframe tbody tr th:only-of-type {\n",
       "        vertical-align: middle;\n",
       "    }\n",
       "\n",
       "    .dataframe tbody tr th {\n",
       "        vertical-align: top;\n",
       "    }\n",
       "\n",
       "    .dataframe thead th {\n",
       "        text-align: right;\n",
       "    }\n",
       "</style>\n",
       "<table border=\"1\" class=\"dataframe\">\n",
       "  <thead>\n",
       "    <tr style=\"text-align: right;\">\n",
       "      <th></th>\n",
       "      <th>ref_id</th>\n",
       "      <th>2017_aut_lpis_poly_110</th>\n",
       "      <th>2017_bel_lpisflanders_poly_110</th>\n",
       "      <th>2017_can_aafccropinventory_point_110</th>\n",
       "      <th>2018_bel_lpisflanders_poly_110</th>\n",
       "      <th>2018_can_aafccropinventory_point_110</th>\n",
       "      <th>2018_irl_lpis_poly_110</th>\n",
       "      <th>2019_aut_lpis_poly_110</th>\n",
       "      <th>2019_bel_lpisflanders_poly_110</th>\n",
       "      <th>2019_can_aafccropinventory_point_110</th>\n",
       "      <th>2019_irl_lpis_poly_110</th>\n",
       "      <th>...</th>\n",
       "      <th>2020_bel_lpisflanders_poly_110</th>\n",
       "      <th>2020_can_aafccropinventory_point_110</th>\n",
       "      <th>2020_irl_lpis_poly_110</th>\n",
       "      <th>2021_bel_lpisflanders_poly_110</th>\n",
       "      <th>2021_can_aafccropinventory_point_110</th>\n",
       "      <th>2021_irl_lpis_poly_110</th>\n",
       "      <th>2022_aut_lpis_poly_110</th>\n",
       "      <th>2022_irl_lpis_poly_110</th>\n",
       "      <th>2023_irl_lpis_poly_110</th>\n",
       "      <th>2023_npl_cimmyt_poly_110</th>\n",
       "    </tr>\n",
       "    <tr>\n",
       "      <th>ewoc_code</th>\n",
       "      <th>Label</th>\n",
       "      <th></th>\n",
       "      <th></th>\n",
       "      <th></th>\n",
       "      <th></th>\n",
       "      <th></th>\n",
       "      <th></th>\n",
       "      <th></th>\n",
       "      <th></th>\n",
       "      <th></th>\n",
       "      <th></th>\n",
       "      <th></th>\n",
       "      <th></th>\n",
       "      <th></th>\n",
       "      <th></th>\n",
       "      <th></th>\n",
       "      <th></th>\n",
       "      <th></th>\n",
       "      <th></th>\n",
       "      <th></th>\n",
       "      <th></th>\n",
       "      <th></th>\n",
       "    </tr>\n",
       "  </thead>\n",
       "  <tbody>\n",
       "    <tr>\n",
       "      <th>2001020010</th>\n",
       "      <th>pastures</th>\n",
       "      <td>402488</td>\n",
       "      <td>494</td>\n",
       "      <td>9235</td>\n",
       "      <td>339</td>\n",
       "      <td>7062</td>\n",
       "      <td>139362</td>\n",
       "      <td>437573</td>\n",
       "      <td>1618</td>\n",
       "      <td>7283</td>\n",
       "      <td>146769</td>\n",
       "      <td>...</td>\n",
       "      <td>1938</td>\n",
       "      <td>4161</td>\n",
       "      <td>154874</td>\n",
       "      <td>2005</td>\n",
       "      <td>1143</td>\n",
       "      <td>153960</td>\n",
       "      <td>48727</td>\n",
       "      <td>172566</td>\n",
       "      <td>158084</td>\n",
       "      <td>56</td>\n",
       "    </tr>\n",
       "  </tbody>\n",
       "</table>\n",
       "<p>1 rows × 21 columns</p>\n",
       "</div>"
      ],
      "text/plain": [
       "ref_id               2017_aut_lpis_poly_110  2017_bel_lpisflanders_poly_110  \\\n",
       "ewoc_code  Label                                                              \n",
       "2001020010 pastures                  402488                             494   \n",
       "\n",
       "ref_id               2017_can_aafccropinventory_point_110  \\\n",
       "ewoc_code  Label                                            \n",
       "2001020010 pastures                                  9235   \n",
       "\n",
       "ref_id               2018_bel_lpisflanders_poly_110  \\\n",
       "ewoc_code  Label                                      \n",
       "2001020010 pastures                             339   \n",
       "\n",
       "ref_id               2018_can_aafccropinventory_point_110  \\\n",
       "ewoc_code  Label                                            \n",
       "2001020010 pastures                                  7062   \n",
       "\n",
       "ref_id               2018_irl_lpis_poly_110  2019_aut_lpis_poly_110  \\\n",
       "ewoc_code  Label                                                      \n",
       "2001020010 pastures                  139362                  437573   \n",
       "\n",
       "ref_id               2019_bel_lpisflanders_poly_110  \\\n",
       "ewoc_code  Label                                      \n",
       "2001020010 pastures                            1618   \n",
       "\n",
       "ref_id               2019_can_aafccropinventory_point_110  \\\n",
       "ewoc_code  Label                                            \n",
       "2001020010 pastures                                  7283   \n",
       "\n",
       "ref_id               2019_irl_lpis_poly_110  ...  \\\n",
       "ewoc_code  Label                             ...   \n",
       "2001020010 pastures                  146769  ...   \n",
       "\n",
       "ref_id               2020_bel_lpisflanders_poly_110  \\\n",
       "ewoc_code  Label                                      \n",
       "2001020010 pastures                            1938   \n",
       "\n",
       "ref_id               2020_can_aafccropinventory_point_110  \\\n",
       "ewoc_code  Label                                            \n",
       "2001020010 pastures                                  4161   \n",
       "\n",
       "ref_id               2020_irl_lpis_poly_110  2021_bel_lpisflanders_poly_110  \\\n",
       "ewoc_code  Label                                                              \n",
       "2001020010 pastures                  154874                            2005   \n",
       "\n",
       "ref_id               2021_can_aafccropinventory_point_110  \\\n",
       "ewoc_code  Label                                            \n",
       "2001020010 pastures                                  1143   \n",
       "\n",
       "ref_id               2021_irl_lpis_poly_110  2022_aut_lpis_poly_110  \\\n",
       "ewoc_code  Label                                                      \n",
       "2001020010 pastures                  153960                   48727   \n",
       "\n",
       "ref_id               2022_irl_lpis_poly_110  2023_irl_lpis_poly_110  \\\n",
       "ewoc_code  Label                                                      \n",
       "2001020010 pastures                  172566                  158084   \n",
       "\n",
       "ref_id               2023_npl_cimmyt_poly_110  \n",
       "ewoc_code  Label                               \n",
       "2001020010 pastures                        56  \n",
       "\n",
       "[1 rows x 21 columns]"
      ]
     },
     "execution_count": 25,
     "metadata": {},
     "output_type": "execute_result"
    }
   ],
   "source": [
    "# BEEF (Pasture)\n",
    "ewoc_code = 2001020010\n",
    "\n",
    "# Get a list of your private collections\n",
    "collections = rdm.get_collections(include_public=True, include_private=True, ewoc_codes=[ewoc_code])\n",
    "\n",
    "# Extract the collection ID's\n",
    "ids = [col.id for col in collections]\n",
    "print(f'Number of collections found: {len(ids)}')\n",
    "print(ids)\n",
    "\n",
    "counts = rdm.get_crop_counts(ref_ids=ids, ewoc_codes=[ewoc_code])\n",
    "print(f'Number of samples found: {np.sum(counts.values)}')\n",
    "print(counts)\n",
    "\n",
    "visualize_spatial_extents(collections)"
   ]
  },
  {
   "cell_type": "code",
   "execution_count": null,
   "metadata": {},
   "outputs": [
    {
     "name": "stderr",
     "output_type": "stream",
     "text": [
      "\u001b[32m2025-03-07 10:42:08.106\u001b[0m | \u001b[1mINFO    \u001b[0m | \u001b[36mworldcereal.rdm_api.rdm_interaction\u001b[0m:\u001b[36mget_collections\u001b[0m:\u001b[36m147\u001b[0m - \u001b[1mTo access private collections, you need to authenticate.\u001b[0m\n"
     ]
    },
    {
     "data": {
      "text/html": [
       "Visit <a href=\"https://sso.terrascope.be/auth/realms/terrascope/device?user_code=DBEQ-CDCL\" title=\"Authenticate at https://sso.terrascope.be/auth/realms/terrascope/device?user_code=DBEQ-CDCL\" target=\"_blank\" rel=\"noopener noreferrer\">https://sso.terrascope.be/auth/realms/terrascope/device?user_code=DBEQ-CDCL</a> <a href=\"#\" onclick=\"navigator.clipboard.writeText('https://sso.terrascope.be/auth/realms/terrascope/device?user_code=DBEQ-CDCL');return false;\" title=\"Copy authentication URL to clipboard\">&#128203;</a> to authenticate."
      ]
     },
     "metadata": {},
     "output_type": "display_data"
    },
    {
     "data": {
      "text/html": [
       "✅ Authorized successfully"
      ]
     },
     "metadata": {},
     "output_type": "display_data"
    },
    {
     "name": "stdout",
     "output_type": "stream",
     "text": [
      "Number of collections found: 2\n",
      "['2021_as_wangetal2024_point_110', '2023_idn_vitocampaign_poly_110']\n",
      "Number of samples found: 2013\n",
      "ref_id             2021_as_wangetal2024_point_110  \\\n",
      "ewoc_code  Label                                    \n",
      "1206000080 rubber                            2010   \n",
      "\n",
      "ref_id             2023_idn_vitocampaign_poly_110  \n",
      "ewoc_code  Label                                   \n",
      "1206000080 rubber                               3  \n"
     ]
    },
    {
     "data": {
      "application/vnd.jupyter.widget-view+json": {
       "model_id": "4b1f970f07c84df6b6c5305a9134dad5",
       "version_major": 2,
       "version_minor": 0
      },
      "text/plain": [
       "Map(center=[0.0, 0.0], controls=(ZoomControl(options=['position', 'zoom_in_text', 'zoom_in_title', 'zoom_out_t…"
      ]
     },
     "execution_count": 2,
     "metadata": {},
     "output_type": "execute_result"
    }
   ],
   "source": [
    "# RUBBER\n",
    "ewoc_code = 1206000080\n",
    "\n",
    "# Get a list of your private collections\n",
    "collections = rdm.get_collections(include_public=True, include_private=True, ewoc_codes=[ewoc_code])\n",
    "\n",
    "# Extract the collection ID's\n",
    "ids = [col.id for col in collections]\n",
    "print(f'Number of collections found: {len(ids)}')\n",
    "print(ids)\n",
    "\n",
    "counts = rdm.get_crop_counts(ref_ids=ids, ewoc_codes=[ewoc_code])\n",
    "print(f'Number of samples found: {np.sum(counts.values)}')\n",
    "print(counts)\n",
    "\n",
    "visualize_spatial_extents(collections)"
   ]
  }
 ],
 "metadata": {
  "kernelspec": {
   "display_name": "worldcereal",
   "language": "python",
   "name": "python3"
  },
  "language_info": {
   "codemirror_mode": {
    "name": "ipython",
    "version": 3
   },
   "file_extension": ".py",
   "mimetype": "text/x-python",
   "name": "python",
   "nbconvert_exporter": "python",
   "pygments_lexer": "ipython3",
   "version": "3.10.0"
  }
 },
 "nbformat": 4,
 "nbformat_minor": 2
}
